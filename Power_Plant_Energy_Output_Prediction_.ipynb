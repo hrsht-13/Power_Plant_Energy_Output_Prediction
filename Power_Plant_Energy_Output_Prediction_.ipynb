{
  "nbformat": 4,
  "nbformat_minor": 0,
  "metadata": {
    "colab": {
      "name": "Power Plant Energy Output Prediction .ipynb",
      "provenance": []
    },
    "kernelspec": {
      "name": "python3",
      "display_name": "Python 3"
    }
  },
  "cells": [
    {
      "cell_type": "code",
      "metadata": {
        "id": "Cn4CnkA5ONzK",
        "colab_type": "code",
        "colab": {}
      },
      "source": [
        "import pandas as pd\n",
        "import numpy as np\n",
        "import seaborn as sns\n",
        "import matplotlib.pyplot as plt"
      ],
      "execution_count": null,
      "outputs": []
    },
    {
      "cell_type": "code",
      "metadata": {
        "id": "gPFApm-GO4bE",
        "colab_type": "code",
        "colab": {}
      },
      "source": [
        "sub=pd.read_csv(\"/content/sample_submission.csv\")"
      ],
      "execution_count": null,
      "outputs": []
    },
    {
      "cell_type": "code",
      "metadata": {
        "id": "JYNST8cVOx4Z",
        "colab_type": "code",
        "colab": {}
      },
      "source": [
        "train=pd.read_csv(\"/content/Train.csv\")"
      ],
      "execution_count": null,
      "outputs": []
    },
    {
      "cell_type": "code",
      "metadata": {
        "id": "s8Bf366wPbdy",
        "colab_type": "code",
        "colab": {}
      },
      "source": [
        "test=pd.read_csv(\"/content/Test.csv\")"
      ],
      "execution_count": null,
      "outputs": []
    },
    {
      "cell_type": "code",
      "metadata": {
        "id": "H4eqIMNBPEFx",
        "colab_type": "code",
        "colab": {
          "base_uri": "https://localhost:8080/",
          "height": 402
        },
        "outputId": "26bdcab0-c232-450f-92db-6768ed669603"
      },
      "source": [
        "train"
      ],
      "execution_count": null,
      "outputs": [
        {
          "output_type": "execute_result",
          "data": {
            "text/html": [
              "<div>\n",
              "<style scoped>\n",
              "    .dataframe tbody tr th:only-of-type {\n",
              "        vertical-align: middle;\n",
              "    }\n",
              "\n",
              "    .dataframe tbody tr th {\n",
              "        vertical-align: top;\n",
              "    }\n",
              "\n",
              "    .dataframe thead th {\n",
              "        text-align: right;\n",
              "    }\n",
              "</style>\n",
              "<table border=\"1\" class=\"dataframe\">\n",
              "  <thead>\n",
              "    <tr style=\"text-align: right;\">\n",
              "      <th></th>\n",
              "      <th>AT</th>\n",
              "      <th>V</th>\n",
              "      <th>AP</th>\n",
              "      <th>RH</th>\n",
              "      <th>PE</th>\n",
              "    </tr>\n",
              "  </thead>\n",
              "  <tbody>\n",
              "    <tr>\n",
              "      <th>0</th>\n",
              "      <td>29.07</td>\n",
              "      <td>72.51</td>\n",
              "      <td>1009.24</td>\n",
              "      <td>58.38</td>\n",
              "      <td>449.371855</td>\n",
              "    </tr>\n",
              "    <tr>\n",
              "      <th>1</th>\n",
              "      <td>32.38</td>\n",
              "      <td>67.17</td>\n",
              "      <td>1006.97</td>\n",
              "      <td>60.04</td>\n",
              "      <td>450.861043</td>\n",
              "    </tr>\n",
              "    <tr>\n",
              "      <th>2</th>\n",
              "      <td>19.29</td>\n",
              "      <td>67.71</td>\n",
              "      <td>1007.94</td>\n",
              "      <td>63.71</td>\n",
              "      <td>460.894029</td>\n",
              "    </tr>\n",
              "    <tr>\n",
              "      <th>3</th>\n",
              "      <td>16.45</td>\n",
              "      <td>41.48</td>\n",
              "      <td>1016.64</td>\n",
              "      <td>45.21</td>\n",
              "      <td>467.577314</td>\n",
              "    </tr>\n",
              "    <tr>\n",
              "      <th>4</th>\n",
              "      <td>21.43</td>\n",
              "      <td>46.97</td>\n",
              "      <td>1013.94</td>\n",
              "      <td>61.25</td>\n",
              "      <td>469.805723</td>\n",
              "    </tr>\n",
              "    <tr>\n",
              "      <th>...</th>\n",
              "      <td>...</td>\n",
              "      <td>...</td>\n",
              "      <td>...</td>\n",
              "      <td>...</td>\n",
              "      <td>...</td>\n",
              "    </tr>\n",
              "    <tr>\n",
              "      <th>9563</th>\n",
              "      <td>4.44</td>\n",
              "      <td>38.44</td>\n",
              "      <td>1016.14</td>\n",
              "      <td>75.35</td>\n",
              "      <td>499.615488</td>\n",
              "    </tr>\n",
              "    <tr>\n",
              "      <th>9564</th>\n",
              "      <td>18.18</td>\n",
              "      <td>67.71</td>\n",
              "      <td>1004.50</td>\n",
              "      <td>87.26</td>\n",
              "      <td>461.130122</td>\n",
              "    </tr>\n",
              "    <tr>\n",
              "      <th>9565</th>\n",
              "      <td>10.96</td>\n",
              "      <td>45.01</td>\n",
              "      <td>1017.97</td>\n",
              "      <td>95.82</td>\n",
              "      <td>481.245635</td>\n",
              "    </tr>\n",
              "    <tr>\n",
              "      <th>9566</th>\n",
              "      <td>8.70</td>\n",
              "      <td>36.24</td>\n",
              "      <td>1013.34</td>\n",
              "      <td>89.50</td>\n",
              "      <td>490.928341</td>\n",
              "    </tr>\n",
              "    <tr>\n",
              "      <th>9567</th>\n",
              "      <td>27.97</td>\n",
              "      <td>58.84</td>\n",
              "      <td>1002.25</td>\n",
              "      <td>57.88</td>\n",
              "      <td>457.630310</td>\n",
              "    </tr>\n",
              "  </tbody>\n",
              "</table>\n",
              "<p>9568 rows × 5 columns</p>\n",
              "</div>"
            ],
            "text/plain": [
              "         AT      V       AP     RH          PE\n",
              "0     29.07  72.51  1009.24  58.38  449.371855\n",
              "1     32.38  67.17  1006.97  60.04  450.861043\n",
              "2     19.29  67.71  1007.94  63.71  460.894029\n",
              "3     16.45  41.48  1016.64  45.21  467.577314\n",
              "4     21.43  46.97  1013.94  61.25  469.805723\n",
              "...     ...    ...      ...    ...         ...\n",
              "9563   4.44  38.44  1016.14  75.35  499.615488\n",
              "9564  18.18  67.71  1004.50  87.26  461.130122\n",
              "9565  10.96  45.01  1017.97  95.82  481.245635\n",
              "9566   8.70  36.24  1013.34  89.50  490.928341\n",
              "9567  27.97  58.84  1002.25  57.88  457.630310\n",
              "\n",
              "[9568 rows x 5 columns]"
            ]
          },
          "metadata": {
            "tags": []
          },
          "execution_count": 46
        }
      ]
    },
    {
      "cell_type": "code",
      "metadata": {
        "id": "-z9bjILDyjgF",
        "colab_type": "code",
        "colab": {}
      },
      "source": [
        "y=train.pop(\"PE\")"
      ],
      "execution_count": null,
      "outputs": []
    },
    {
      "cell_type": "code",
      "metadata": {
        "id": "e1vLC2WO7o-e",
        "colab_type": "code",
        "colab": {}
      },
      "source": [
        "data=pd.concat([train,test],ignore_index=False)"
      ],
      "execution_count": null,
      "outputs": []
    },
    {
      "cell_type": "code",
      "metadata": {
        "id": "SMmN1XXuwHOS",
        "colab_type": "code",
        "colab": {
          "base_uri": "https://localhost:8080/",
          "height": 101
        },
        "outputId": "61e8bed0-ac08-4c42-a0bf-75d636ce6d12"
      },
      "source": [
        "train.isnull().sum()"
      ],
      "execution_count": null,
      "outputs": [
        {
          "output_type": "execute_result",
          "data": {
            "text/plain": [
              "AT    0\n",
              "V     0\n",
              "AP    0\n",
              "RH    0\n",
              "dtype: int64"
            ]
          },
          "metadata": {
            "tags": []
          },
          "execution_count": 49
        }
      ]
    },
    {
      "cell_type": "code",
      "metadata": {
        "id": "KH9y00YVPEwV",
        "colab_type": "code",
        "colab": {
          "base_uri": "https://localhost:8080/",
          "height": 101
        },
        "outputId": "63e0d108-6a8c-495e-e067-14c490b4d1a8"
      },
      "source": [
        "train.dtypes"
      ],
      "execution_count": null,
      "outputs": [
        {
          "output_type": "execute_result",
          "data": {
            "text/plain": [
              "AT    float64\n",
              "V     float64\n",
              "AP    float64\n",
              "RH    float64\n",
              "dtype: object"
            ]
          },
          "metadata": {
            "tags": []
          },
          "execution_count": 50
        }
      ]
    },
    {
      "cell_type": "code",
      "metadata": {
        "id": "lURZF-wbPMYB",
        "colab_type": "code",
        "colab": {
          "base_uri": "https://localhost:8080/",
          "height": 282
        },
        "outputId": "c616ee2b-eb0a-43b4-fc5c-eeb3e07d3976"
      },
      "source": [
        "train[\"AT\"].plot.hist()\n",
        "#test[\"AT\"].plot.hist()"
      ],
      "execution_count": null,
      "outputs": [
        {
          "output_type": "execute_result",
          "data": {
            "text/plain": [
              "<matplotlib.axes._subplots.AxesSubplot at 0x7f2ae4e19630>"
            ]
          },
          "metadata": {
            "tags": []
          },
          "execution_count": 51
        },
        {
          "output_type": "display_data",
          "data": {
            "image/png": "[encoded data removed]",
            "text/plain": [
              "<Figure size 432x288 with 1 Axes>"
            ]
          },
          "metadata": {
            "tags": [],
            "needs_background": "light"
          }
        }
      ]
    },
    {
      "cell_type": "code",
      "metadata": {
        "id": "x2FWB_TSPUsN",
        "colab_type": "code",
        "colab": {
          "base_uri": "https://localhost:8080/",
          "height": 284
        },
        "outputId": "6cc02190-183e-4041-9e45-76e303883f46"
      },
      "source": [
        "train[\"V\"].plot.hist()\n",
        "#test[\"V\"].plot.hist()"
      ],
      "execution_count": null,
      "outputs": [
        {
          "output_type": "execute_result",
          "data": {
            "text/plain": [
              "<matplotlib.axes._subplots.AxesSubplot at 0x7f2ae4d47d68>"
            ]
          },
          "metadata": {
            "tags": []
          },
          "execution_count": 52
        },
        {
          "output_type": "display_data",
          "data": {
            "image/png": "[encoded data removed]",
            "text/plain": [
              "<Figure size 432x288 with 1 Axes>"
            ]
          },
          "metadata": {
            "tags": [],
            "needs_background": "light"
          }
        }
      ]
    },
    {
      "cell_type": "code",
      "metadata": {
        "id": "Jnq4jG8aP_w-",
        "colab_type": "code",
        "colab": {
          "base_uri": "https://localhost:8080/",
          "height": 282
        },
        "outputId": "35bd34fe-635e-4b15-efd8-c719f18bce12"
      },
      "source": [
        "train[\"AP\"].plot.hist()\n",
        "#test[\"AP\"].plot.hist()"
      ],
      "execution_count": null,
      "outputs": [
        {
          "output_type": "execute_result",
          "data": {
            "text/plain": [
              "<matplotlib.axes._subplots.AxesSubplot at 0x7f2ae4d98128>"
            ]
          },
          "metadata": {
            "tags": []
          },
          "execution_count": 53
        },
        {
          "output_type": "display_data",
          "data": {
            "image/png": "[encoded data removed]",
            "text/plain": [
              "<Figure size 432x288 with 1 Axes>"
            ]
          },
          "metadata": {
            "tags": [],
            "needs_background": "light"
          }
        }
      ]
    },
    {
      "cell_type": "code",
      "metadata": {
        "id": "vsIssqAMQI_m",
        "colab_type": "code",
        "colab": {
          "base_uri": "https://localhost:8080/",
          "height": 282
        },
        "outputId": "8622246f-11e5-490b-caa5-a994f2f476f2"
      },
      "source": [
        "train[\"RH\"].plot.hist()\n",
        "#test[\"RH\"].plot.hist()"
      ],
      "execution_count": null,
      "outputs": [
        {
          "output_type": "execute_result",
          "data": {
            "text/plain": [
              "<matplotlib.axes._subplots.AxesSubplot at 0x7f2ae4d9edd8>"
            ]
          },
          "metadata": {
            "tags": []
          },
          "execution_count": 54
        },
        {
          "output_type": "display_data",
          "data": {
            "image/png": "[encoded data removed]",
            "text/plain": [
              "<Figure size 432x288 with 1 Axes>"
            ]
          },
          "metadata": {
            "tags": [],
            "needs_background": "light"
          }
        }
      ]
    },
    {
      "cell_type": "code",
      "metadata": {
        "id": "zqoa6x3yQO2K",
        "colab_type": "code",
        "colab": {
          "base_uri": "https://localhost:8080/",
          "height": 284
        },
        "outputId": "a2480f4c-26c3-434b-8692-42e98360d481"
      },
      "source": [
        "train.describe()"
      ],
      "execution_count": null,
      "outputs": [
        {
          "output_type": "execute_result",
          "data": {
            "text/html": [
              "<div>\n",
              "<style scoped>\n",
              "    .dataframe tbody tr th:only-of-type {\n",
              "        vertical-align: middle;\n",
              "    }\n",
              "\n",
              "    .dataframe tbody tr th {\n",
              "        vertical-align: top;\n",
              "    }\n",
              "\n",
              "    .dataframe thead th {\n",
              "        text-align: right;\n",
              "    }\n",
              "</style>\n",
              "<table border=\"1\" class=\"dataframe\">\n",
              "  <thead>\n",
              "    <tr style=\"text-align: right;\">\n",
              "      <th></th>\n",
              "      <th>AT</th>\n",
              "      <th>V</th>\n",
              "      <th>AP</th>\n",
              "      <th>RH</th>\n",
              "    </tr>\n",
              "  </thead>\n",
              "  <tbody>\n",
              "    <tr>\n",
              "      <th>count</th>\n",
              "      <td>9568.000000</td>\n",
              "      <td>9568.000000</td>\n",
              "      <td>9568.000000</td>\n",
              "      <td>9568.000000</td>\n",
              "    </tr>\n",
              "    <tr>\n",
              "      <th>mean</th>\n",
              "      <td>19.723857</td>\n",
              "      <td>54.461361</td>\n",
              "      <td>1013.318927</td>\n",
              "      <td>73.165178</td>\n",
              "    </tr>\n",
              "    <tr>\n",
              "      <th>std</th>\n",
              "      <td>7.407995</td>\n",
              "      <td>12.679972</td>\n",
              "      <td>5.906082</td>\n",
              "      <td>14.618969</td>\n",
              "    </tr>\n",
              "    <tr>\n",
              "      <th>min</th>\n",
              "      <td>2.340000</td>\n",
              "      <td>25.360000</td>\n",
              "      <td>993.110000</td>\n",
              "      <td>25.890000</td>\n",
              "    </tr>\n",
              "    <tr>\n",
              "      <th>25%</th>\n",
              "      <td>13.560000</td>\n",
              "      <td>41.780000</td>\n",
              "      <td>1009.210000</td>\n",
              "      <td>62.990000</td>\n",
              "    </tr>\n",
              "    <tr>\n",
              "      <th>50%</th>\n",
              "      <td>20.550000</td>\n",
              "      <td>52.750000</td>\n",
              "      <td>1013.030000</td>\n",
              "      <td>74.855000</td>\n",
              "    </tr>\n",
              "    <tr>\n",
              "      <th>75%</th>\n",
              "      <td>25.770000</td>\n",
              "      <td>66.560000</td>\n",
              "      <td>1017.342500</td>\n",
              "      <td>84.790000</td>\n",
              "    </tr>\n",
              "    <tr>\n",
              "      <th>max</th>\n",
              "      <td>37.110000</td>\n",
              "      <td>81.560000</td>\n",
              "      <td>1033.300000</td>\n",
              "      <td>100.160000</td>\n",
              "    </tr>\n",
              "  </tbody>\n",
              "</table>\n",
              "</div>"
            ],
            "text/plain": [
              "                AT            V           AP           RH\n",
              "count  9568.000000  9568.000000  9568.000000  9568.000000\n",
              "mean     19.723857    54.461361  1013.318927    73.165178\n",
              "std       7.407995    12.679972     5.906082    14.618969\n",
              "min       2.340000    25.360000   993.110000    25.890000\n",
              "25%      13.560000    41.780000  1009.210000    62.990000\n",
              "50%      20.550000    52.750000  1013.030000    74.855000\n",
              "75%      25.770000    66.560000  1017.342500    84.790000\n",
              "max      37.110000    81.560000  1033.300000   100.160000"
            ]
          },
          "metadata": {
            "tags": []
          },
          "execution_count": 55
        }
      ]
    },
    {
      "cell_type": "code",
      "metadata": {
        "id": "O_YzTGe7QWwW",
        "colab_type": "code",
        "colab": {
          "base_uri": "https://localhost:8080/",
          "height": 166
        },
        "outputId": "d7b6df7a-770a-48ec-c436-05e7448fcec5"
      },
      "source": [
        "test.corr()"
      ],
      "execution_count": null,
      "outputs": [
        {
          "output_type": "execute_result",
          "data": {
            "text/html": [
              "<div>\n",
              "<style scoped>\n",
              "    .dataframe tbody tr th:only-of-type {\n",
              "        vertical-align: middle;\n",
              "    }\n",
              "\n",
              "    .dataframe tbody tr th {\n",
              "        vertical-align: top;\n",
              "    }\n",
              "\n",
              "    .dataframe thead th {\n",
              "        text-align: right;\n",
              "    }\n",
              "</style>\n",
              "<table border=\"1\" class=\"dataframe\">\n",
              "  <thead>\n",
              "    <tr style=\"text-align: right;\">\n",
              "      <th></th>\n",
              "      <th>AT</th>\n",
              "      <th>V</th>\n",
              "      <th>AP</th>\n",
              "      <th>RH</th>\n",
              "    </tr>\n",
              "  </thead>\n",
              "  <tbody>\n",
              "    <tr>\n",
              "      <th>AT</th>\n",
              "      <td>1.000000</td>\n",
              "      <td>0.844612</td>\n",
              "      <td>-0.505931</td>\n",
              "      <td>-0.542757</td>\n",
              "    </tr>\n",
              "    <tr>\n",
              "      <th>V</th>\n",
              "      <td>0.844612</td>\n",
              "      <td>1.000000</td>\n",
              "      <td>-0.413164</td>\n",
              "      <td>-0.313609</td>\n",
              "    </tr>\n",
              "    <tr>\n",
              "      <th>AP</th>\n",
              "      <td>-0.505931</td>\n",
              "      <td>-0.413164</td>\n",
              "      <td>1.000000</td>\n",
              "      <td>0.095660</td>\n",
              "    </tr>\n",
              "    <tr>\n",
              "      <th>RH</th>\n",
              "      <td>-0.542757</td>\n",
              "      <td>-0.313609</td>\n",
              "      <td>0.095660</td>\n",
              "      <td>1.000000</td>\n",
              "    </tr>\n",
              "  </tbody>\n",
              "</table>\n",
              "</div>"
            ],
            "text/plain": [
              "          AT         V        AP        RH\n",
              "AT  1.000000  0.844612 -0.505931 -0.542757\n",
              "V   0.844612  1.000000 -0.413164 -0.313609\n",
              "AP -0.505931 -0.413164  1.000000  0.095660\n",
              "RH -0.542757 -0.313609  0.095660  1.000000"
            ]
          },
          "metadata": {
            "tags": []
          },
          "execution_count": 56
        }
      ]
    },
    {
      "cell_type": "code",
      "metadata": {
        "id": "UHFa3eCdTi9W",
        "colab_type": "code",
        "colab": {
          "base_uri": "https://localhost:8080/",
          "height": 166
        },
        "outputId": "7fb511c6-42b7-4819-8388-f7a50add09f1"
      },
      "source": [
        "train.corr()"
      ],
      "execution_count": null,
      "outputs": [
        {
          "output_type": "execute_result",
          "data": {
            "text/html": [
              "<div>\n",
              "<style scoped>\n",
              "    .dataframe tbody tr th:only-of-type {\n",
              "        vertical-align: middle;\n",
              "    }\n",
              "\n",
              "    .dataframe tbody tr th {\n",
              "        vertical-align: top;\n",
              "    }\n",
              "\n",
              "    .dataframe thead th {\n",
              "        text-align: right;\n",
              "    }\n",
              "</style>\n",
              "<table border=\"1\" class=\"dataframe\">\n",
              "  <thead>\n",
              "    <tr style=\"text-align: right;\">\n",
              "      <th></th>\n",
              "      <th>AT</th>\n",
              "      <th>V</th>\n",
              "      <th>AP</th>\n",
              "      <th>RH</th>\n",
              "    </tr>\n",
              "  </thead>\n",
              "  <tbody>\n",
              "    <tr>\n",
              "      <th>AT</th>\n",
              "      <td>1.000000</td>\n",
              "      <td>0.842054</td>\n",
              "      <td>-0.514305</td>\n",
              "      <td>-0.541602</td>\n",
              "    </tr>\n",
              "    <tr>\n",
              "      <th>V</th>\n",
              "      <td>0.842054</td>\n",
              "      <td>1.000000</td>\n",
              "      <td>-0.415093</td>\n",
              "      <td>-0.306395</td>\n",
              "    </tr>\n",
              "    <tr>\n",
              "      <th>AP</th>\n",
              "      <td>-0.514305</td>\n",
              "      <td>-0.415093</td>\n",
              "      <td>1.000000</td>\n",
              "      <td>0.115454</td>\n",
              "    </tr>\n",
              "    <tr>\n",
              "      <th>RH</th>\n",
              "      <td>-0.541602</td>\n",
              "      <td>-0.306395</td>\n",
              "      <td>0.115454</td>\n",
              "      <td>1.000000</td>\n",
              "    </tr>\n",
              "  </tbody>\n",
              "</table>\n",
              "</div>"
            ],
            "text/plain": [
              "          AT         V        AP        RH\n",
              "AT  1.000000  0.842054 -0.514305 -0.541602\n",
              "V   0.842054  1.000000 -0.415093 -0.306395\n",
              "AP -0.514305 -0.415093  1.000000  0.115454\n",
              "RH -0.541602 -0.306395  0.115454  1.000000"
            ]
          },
          "metadata": {
            "tags": []
          },
          "execution_count": 57
        }
      ]
    },
    {
      "cell_type": "markdown",
      "metadata": {
        "id": "hgdRRWL4vyjm",
        "colab_type": "text"
      },
      "source": [
        "# BASELINE (LAZY REGRESSOR)"
      ]
    },
    {
      "cell_type": "code",
      "metadata": {
        "id": "IfW4r_vGTmLk",
        "colab_type": "code",
        "colab": {}
      },
      "source": [
        "from sklearn.model_selection import train_test_split\n",
        "X_train, X_test, y_train, y_test = train_test_split(trainxx,y,test_size=.33,random_state =123)"
      ],
      "execution_count": null,
      "outputs": []
    },
    {
      "cell_type": "code",
      "metadata": {
        "id": "Nx5uGsJiv525",
        "colab_type": "code",
        "colab": {
          "base_uri": "https://localhost:8080/",
          "height": 121
        },
        "outputId": "f27ffa05-2e38-4ad5-bef5-3263a6d015d9"
      },
      "source": [
        "pip install lazypredict"
      ],
      "execution_count": null,
      "outputs": [
        {
          "output_type": "stream",
          "text": [
            "Collecting lazypredict\n",
            "  Downloading https://files.pythonhosted.org/packages/5f/db/1566dca1050ea74e9474dca0f1e7bbffcb0c3e694cf92e7e6e7ef9fca3af/lazypredict-0.2.7-py2.py3-none-any.whl\n",
            "Requirement already satisfied: Click>=7.0 in /usr/local/lib/python3.6/dist-packages (from lazypredict) (7.1.2)\n",
            "Installing collected packages: lazypredict\n",
            "Successfully installed lazypredict-0.2.7\n"
          ],
          "name": "stdout"
        }
      ]
    },
    {
      "cell_type": "code",
      "metadata": {
        "id": "vxUWHS5I1N2C",
        "colab_type": "code",
        "colab": {
          "base_uri": "https://localhost:8080/",
          "height": 87
        },
        "outputId": "f1a36617-bd3b-4821-d1ae-6c2ac66209da"
      },
      "source": [
        "from lazypredict.Supervised import LazyRegressor\n",
        "reg = LazyRegressor(verbose=0,ignore_warnings=False, custom_metric=None )\n",
        "models,predictions = reg.fit(X_train, X_test, y_train, y_test)"
      ],
      "execution_count": null,
      "outputs": [
        {
          "output_type": "stream",
          "text": [
            "/usr/local/lib/python3.6/dist-packages/sklearn/utils/deprecation.py:144: FutureWarning: The sklearn.utils.testing module is  deprecated in version 0.22 and will be removed in version 0.24. The corresponding classes / functions should instead be imported from sklearn.utils. Anything that cannot be imported from sklearn.utils is now part of the private API.\n",
            "  warnings.warn(message, FutureWarning)\n",
            " 74%|███████▍  | 29/39 [00:46<00:17,  1.79s/it]"
          ],
          "name": "stderr"
        }
      ]
    },
    {
      "cell_type": "code",
      "metadata": {
        "id": "WxyRsH__1Wgb",
        "colab_type": "code",
        "colab": {}
      },
      "source": [
        "models"
      ],
      "execution_count": null,
      "outputs": []
    },
    {
      "cell_type": "markdown",
      "metadata": {
        "id": "rS9VKhkvxE2x",
        "colab_type": "text"
      },
      "source": [
        "# VISUALIZATION"
      ]
    },
    {
      "cell_type": "code",
      "metadata": {
        "id": "HnBDpXaUwNKe",
        "colab_type": "code",
        "colab": {
          "base_uri": "https://localhost:8080/",
          "height": 136
        },
        "outputId": "942a50e8-6be2-4f31-fd54-da086ea4a059"
      },
      "source": [
        "train.head(3)"
      ],
      "execution_count": null,
      "outputs": [
        {
          "output_type": "execute_result",
          "data": {
            "text/html": [
              "<div>\n",
              "<style scoped>\n",
              "    .dataframe tbody tr th:only-of-type {\n",
              "        vertical-align: middle;\n",
              "    }\n",
              "\n",
              "    .dataframe tbody tr th {\n",
              "        vertical-align: top;\n",
              "    }\n",
              "\n",
              "    .dataframe thead th {\n",
              "        text-align: right;\n",
              "    }\n",
              "</style>\n",
              "<table border=\"1\" class=\"dataframe\">\n",
              "  <thead>\n",
              "    <tr style=\"text-align: right;\">\n",
              "      <th></th>\n",
              "      <th>AT</th>\n",
              "      <th>V</th>\n",
              "      <th>AP</th>\n",
              "      <th>RH</th>\n",
              "    </tr>\n",
              "  </thead>\n",
              "  <tbody>\n",
              "    <tr>\n",
              "      <th>0</th>\n",
              "      <td>29.07</td>\n",
              "      <td>72.51</td>\n",
              "      <td>1009.24</td>\n",
              "      <td>58.38</td>\n",
              "    </tr>\n",
              "    <tr>\n",
              "      <th>1</th>\n",
              "      <td>32.38</td>\n",
              "      <td>67.17</td>\n",
              "      <td>1006.97</td>\n",
              "      <td>60.04</td>\n",
              "    </tr>\n",
              "    <tr>\n",
              "      <th>2</th>\n",
              "      <td>19.29</td>\n",
              "      <td>67.71</td>\n",
              "      <td>1007.94</td>\n",
              "      <td>63.71</td>\n",
              "    </tr>\n",
              "  </tbody>\n",
              "</table>\n",
              "</div>"
            ],
            "text/plain": [
              "      AT      V       AP     RH\n",
              "0  29.07  72.51  1009.24  58.38\n",
              "1  32.38  67.17  1006.97  60.04\n",
              "2  19.29  67.71  1007.94  63.71"
            ]
          },
          "metadata": {
            "tags": []
          },
          "execution_count": 61
        }
      ]
    },
    {
      "cell_type": "code",
      "metadata": {
        "id": "AvKH2CXSxK-W",
        "colab_type": "code",
        "colab": {
          "base_uri": "https://localhost:8080/",
          "height": 34
        },
        "outputId": "bd232ef9-e261-4b22-8619-2723a2a3fb79"
      },
      "source": [
        "train.AT.skew()"
      ],
      "execution_count": null,
      "outputs": [
        {
          "output_type": "execute_result",
          "data": {
            "text/plain": [
              "-0.14902418781989937"
            ]
          },
          "metadata": {
            "tags": []
          },
          "execution_count": 62
        }
      ]
    },
    {
      "cell_type": "code",
      "metadata": {
        "id": "_oyG81t_xR8h",
        "colab_type": "code",
        "colab": {
          "base_uri": "https://localhost:8080/",
          "height": 34
        },
        "outputId": "9af25204-860d-47d4-e4ff-da9ad809e68b"
      },
      "source": [
        "train.V.skew()"
      ],
      "execution_count": null,
      "outputs": [
        {
          "output_type": "execute_result",
          "data": {
            "text/plain": [
              "0.17709634866012616"
            ]
          },
          "metadata": {
            "tags": []
          },
          "execution_count": 63
        }
      ]
    },
    {
      "cell_type": "code",
      "metadata": {
        "id": "I-rgTjZSx98U",
        "colab_type": "code",
        "colab": {}
      },
      "source": [
        "data[\"V\"]=(np.log1p(data.V))"
      ],
      "execution_count": null,
      "outputs": []
    },
    {
      "cell_type": "code",
      "metadata": {
        "id": "vODkDLvtxaXj",
        "colab_type": "code",
        "colab": {
          "base_uri": "https://localhost:8080/",
          "height": 34
        },
        "outputId": "38d8cfaf-645a-48cc-85ef-3d2d9fb0073f"
      },
      "source": [
        "train.AP.skew()"
      ],
      "execution_count": null,
      "outputs": [
        {
          "output_type": "execute_result",
          "data": {
            "text/plain": [
              "0.24019659756669504"
            ]
          },
          "metadata": {
            "tags": []
          },
          "execution_count": 65
        }
      ]
    },
    {
      "cell_type": "code",
      "metadata": {
        "id": "pmk3dPhayLtG",
        "colab_type": "code",
        "colab": {}
      },
      "source": [
        "data.AP=np.log1p(data.AP)"
      ],
      "execution_count": null,
      "outputs": []
    },
    {
      "cell_type": "code",
      "metadata": {
        "id": "G0OJ1TkOxdCj",
        "colab_type": "code",
        "colab": {
          "base_uri": "https://localhost:8080/",
          "height": 34
        },
        "outputId": "dc28171a-dc59-4f71-eda7-208aba4ab1fa"
      },
      "source": [
        "train.RH.skew()"
      ],
      "execution_count": null,
      "outputs": [
        {
          "output_type": "execute_result",
          "data": {
            "text/plain": [
              "-0.4235105703119026"
            ]
          },
          "metadata": {
            "tags": []
          },
          "execution_count": 67
        }
      ]
    },
    {
      "cell_type": "code",
      "metadata": {
        "id": "EW06KInSxfba",
        "colab_type": "code",
        "colab": {}
      },
      "source": [
        "data.RH=np.square(data.RH)"
      ],
      "execution_count": null,
      "outputs": []
    },
    {
      "cell_type": "code",
      "metadata": {
        "id": "0X_daARI98B4",
        "colab_type": "code",
        "colab": {
          "base_uri": "https://localhost:8080/",
          "height": 402
        },
        "outputId": "55acf9cf-923e-43ec-95d4-1ae2adf9eecd"
      },
      "source": [
        "data"
      ],
      "execution_count": null,
      "outputs": [
        {
          "output_type": "execute_result",
          "data": {
            "text/html": [
              "<div>\n",
              "<style scoped>\n",
              "    .dataframe tbody tr th:only-of-type {\n",
              "        vertical-align: middle;\n",
              "    }\n",
              "\n",
              "    .dataframe tbody tr th {\n",
              "        vertical-align: top;\n",
              "    }\n",
              "\n",
              "    .dataframe thead th {\n",
              "        text-align: right;\n",
              "    }\n",
              "</style>\n",
              "<table border=\"1\" class=\"dataframe\">\n",
              "  <thead>\n",
              "    <tr style=\"text-align: right;\">\n",
              "      <th></th>\n",
              "      <th>AT</th>\n",
              "      <th>V</th>\n",
              "      <th>AP</th>\n",
              "      <th>RH</th>\n",
              "    </tr>\n",
              "  </thead>\n",
              "  <tbody>\n",
              "    <tr>\n",
              "      <th>0</th>\n",
              "      <td>29.07</td>\n",
              "      <td>4.297421</td>\n",
              "      <td>6.917943</td>\n",
              "      <td>3408.2244</td>\n",
              "    </tr>\n",
              "    <tr>\n",
              "      <th>1</th>\n",
              "      <td>32.38</td>\n",
              "      <td>4.222005</td>\n",
              "      <td>6.915694</td>\n",
              "      <td>3604.8016</td>\n",
              "    </tr>\n",
              "    <tr>\n",
              "      <th>2</th>\n",
              "      <td>19.29</td>\n",
              "      <td>4.229895</td>\n",
              "      <td>6.916656</td>\n",
              "      <td>4058.9641</td>\n",
              "    </tr>\n",
              "    <tr>\n",
              "      <th>3</th>\n",
              "      <td>16.45</td>\n",
              "      <td>3.749033</td>\n",
              "      <td>6.925241</td>\n",
              "      <td>2043.9441</td>\n",
              "    </tr>\n",
              "    <tr>\n",
              "      <th>4</th>\n",
              "      <td>21.43</td>\n",
              "      <td>3.870576</td>\n",
              "      <td>6.922585</td>\n",
              "      <td>3751.5625</td>\n",
              "    </tr>\n",
              "    <tr>\n",
              "      <th>...</th>\n",
              "      <td>...</td>\n",
              "      <td>...</td>\n",
              "      <td>...</td>\n",
              "      <td>...</td>\n",
              "    </tr>\n",
              "    <tr>\n",
              "      <th>38267</th>\n",
              "      <td>14.60</td>\n",
              "      <td>4.004055</td>\n",
              "      <td>6.924888</td>\n",
              "      <td>4202.9289</td>\n",
              "    </tr>\n",
              "    <tr>\n",
              "      <th>38268</th>\n",
              "      <td>29.67</td>\n",
              "      <td>4.212276</td>\n",
              "      <td>6.924219</td>\n",
              "      <td>1162.8100</td>\n",
              "    </tr>\n",
              "    <tr>\n",
              "      <th>38269</th>\n",
              "      <td>20.13</td>\n",
              "      <td>3.871826</td>\n",
              "      <td>6.921254</td>\n",
              "      <td>6893.9809</td>\n",
              "    </tr>\n",
              "    <tr>\n",
              "      <th>38270</th>\n",
              "      <td>27.14</td>\n",
              "      <td>4.267177</td>\n",
              "      <td>6.915803</td>\n",
              "      <td>5340.6864</td>\n",
              "    </tr>\n",
              "    <tr>\n",
              "      <th>38271</th>\n",
              "      <td>18.82</td>\n",
              "      <td>4.131480</td>\n",
              "      <td>6.928048</td>\n",
              "      <td>5217.1729</td>\n",
              "    </tr>\n",
              "  </tbody>\n",
              "</table>\n",
              "<p>47840 rows × 4 columns</p>\n",
              "</div>"
            ],
            "text/plain": [
              "          AT         V        AP         RH\n",
              "0      29.07  4.297421  6.917943  3408.2244\n",
              "1      32.38  4.222005  6.915694  3604.8016\n",
              "2      19.29  4.229895  6.916656  4058.9641\n",
              "3      16.45  3.749033  6.925241  2043.9441\n",
              "4      21.43  3.870576  6.922585  3751.5625\n",
              "...      ...       ...       ...        ...\n",
              "38267  14.60  4.004055  6.924888  4202.9289\n",
              "38268  29.67  4.212276  6.924219  1162.8100\n",
              "38269  20.13  3.871826  6.921254  6893.9809\n",
              "38270  27.14  4.267177  6.915803  5340.6864\n",
              "38271  18.82  4.131480  6.928048  5217.1729\n",
              "\n",
              "[47840 rows x 4 columns]"
            ]
          },
          "metadata": {
            "tags": []
          },
          "execution_count": 69
        }
      ]
    },
    {
      "cell_type": "markdown",
      "metadata": {
        "id": "1hZTFCzhzgWw",
        "colab_type": "text"
      },
      "source": [
        "# FEATURE ENGINEERING"
      ]
    },
    {
      "cell_type": "code",
      "metadata": {
        "id": "aMvjJeijG7tv",
        "colab_type": "code",
        "colab": {}
      },
      "source": [
        "data[\"AP/V\"]=data[\"AP\"]/data[\"V\"]"
      ],
      "execution_count": null,
      "outputs": []
    },
    {
      "cell_type": "code",
      "metadata": {
        "id": "sHAvWUH2Gr5u",
        "colab_type": "code",
        "colab": {}
      },
      "source": [
        "data[\"AP/V*RH\"]=data[\"AP/V\"]*data[\"RH\"]"
      ],
      "execution_count": null,
      "outputs": []
    },
    {
      "cell_type": "code",
      "metadata": {
        "id": "RTtP7ZtwzfwB",
        "colab_type": "code",
        "colab": {}
      },
      "source": [
        "data[\"AP/V%\"]=data[\"AP/V\"]*100"
      ],
      "execution_count": null,
      "outputs": []
    },
    {
      "cell_type": "code",
      "metadata": {
        "id": "LQI4RhBcNl_J",
        "colab_type": "code",
        "colab": {}
      },
      "source": [
        "data[\"AP/V2\"]=np.square(data[\"AP/V\"])"
      ],
      "execution_count": null,
      "outputs": []
    },
    {
      "cell_type": "code",
      "metadata": {
        "id": "B_73vcOKMqwg",
        "colab_type": "code",
        "colab": {}
      },
      "source": [
        "data[\"AP/V3\"]=np.power(data[\"AP/V\"],3)"
      ],
      "execution_count": null,
      "outputs": []
    },
    {
      "cell_type": "code",
      "metadata": {
        "id": "KeZfyfVgN_iD",
        "colab_type": "code",
        "colab": {}
      },
      "source": [
        "data[\"AP/V4\"]=np.power(data[\"AP/V\"],4)"
      ],
      "execution_count": null,
      "outputs": []
    },
    {
      "cell_type": "code",
      "metadata": {
        "id": "nFqwnUVPOyQh",
        "colab_type": "code",
        "colab": {}
      },
      "source": [
        "data[\"V/AP\"]=data[\"V\"]/data[\"AP\"]"
      ],
      "execution_count": null,
      "outputs": []
    },
    {
      "cell_type": "code",
      "metadata": {
        "id": "KF1qgbkvSfia",
        "colab_type": "code",
        "colab": {}
      },
      "source": [
        "data[\"AT*RH\"]=data[\"AT\"]*data[\"RH\"]"
      ],
      "execution_count": null,
      "outputs": []
    },
    {
      "cell_type": "code",
      "metadata": {
        "id": "0I9LHFCDS0px",
        "colab_type": "code",
        "colab": {}
      },
      "source": [
        "data[\"AP-V/V\"]=(data[\"AP\"]-data[\"V\"])/data[\"V\"]"
      ],
      "execution_count": null,
      "outputs": []
    },
    {
      "cell_type": "code",
      "metadata": {
        "id": "uVGUoHZpTLTW",
        "colab_type": "code",
        "colab": {}
      },
      "source": [
        "data[\"AP-V/V%\"]=data[\"AP-V/V\"]*100"
      ],
      "execution_count": null,
      "outputs": []
    },
    {
      "cell_type": "code",
      "metadata": {
        "id": "qWQiE-5fTdPn",
        "colab_type": "code",
        "colab": {}
      },
      "source": [
        "data[\"P\"]=data[\"V\"]+data[\"AP\"]"
      ],
      "execution_count": null,
      "outputs": []
    },
    {
      "cell_type": "code",
      "metadata": {
        "id": "Bpxb0727T2Rw",
        "colab_type": "code",
        "colab": {}
      },
      "source": [
        "data[\"P/v\"]=data[\"P\"]/data[\"V\"]"
      ],
      "execution_count": null,
      "outputs": []
    },
    {
      "cell_type": "code",
      "metadata": {
        "id": "GgzlQWIVV565",
        "colab_type": "code",
        "colab": {}
      },
      "source": [
        "data[\"P/AP\"]=data[\"P\"]/data[\"AP\"]"
      ],
      "execution_count": null,
      "outputs": []
    },
    {
      "cell_type": "code",
      "metadata": {
        "id": "8eWL7f9nWKdc",
        "colab_type": "code",
        "colab": {}
      },
      "source": [
        "data[\"P/V2\"]=np.square(data[\"P/v\"])"
      ],
      "execution_count": null,
      "outputs": []
    },
    {
      "cell_type": "code",
      "metadata": {
        "id": "BwUBReRCWplu",
        "colab_type": "code",
        "colab": {}
      },
      "source": [
        "data[\"P_diff\"]=data[\"AP\"]-data[\"V\"]"
      ],
      "execution_count": null,
      "outputs": []
    },
    {
      "cell_type": "code",
      "metadata": {
        "id": "u3yEviMAXB9d",
        "colab_type": "code",
        "colab": {}
      },
      "source": [
        "data[\"sss\"]=data[\"P\"]/data[\"P_diff\"]"
      ],
      "execution_count": null,
      "outputs": []
    },
    {
      "cell_type": "code",
      "metadata": {
        "id": "J-qnpFNWXsxU",
        "colab_type": "code",
        "colab": {}
      },
      "source": [
        "data[\"yy\"]=data[\"P_diff\"]/data[\"P\"]"
      ],
      "execution_count": null,
      "outputs": []
    },
    {
      "cell_type": "code",
      "metadata": {
        "id": "nXr3cN5oZPWP",
        "colab_type": "code",
        "colab": {}
      },
      "source": [
        "data[\"AP*V\"]=data[\"AP\"]*data[\"V\"]"
      ],
      "execution_count": null,
      "outputs": []
    },
    {
      "cell_type": "code",
      "metadata": {
        "id": "J2wK7NB-Zotd",
        "colab_type": "code",
        "colab": {}
      },
      "source": [
        "data[\"fff\"]=data[\"AP*V\"]/data[\"AP/V\"]"
      ],
      "execution_count": null,
      "outputs": []
    },
    {
      "cell_type": "code",
      "metadata": {
        "id": "xR1iI_Wrx1y6",
        "colab_type": "code",
        "colab": {}
      },
      "source": [
        "data[\"V-unit\"]=data[\"V\"]*13.33"
      ],
      "execution_count": null,
      "outputs": []
    },
    {
      "cell_type": "code",
      "metadata": {
        "id": "CzeAKKaW1CY8",
        "colab_type": "code",
        "colab": {}
      },
      "source": [
        "data[\"AP/V-mili\"]=data[\"AP/V\"]/13.33"
      ],
      "execution_count": null,
      "outputs": []
    },
    {
      "cell_type": "code",
      "metadata": {
        "id": "3sM2Td4o1i7_",
        "colab_type": "code",
        "colab": {}
      },
      "source": [
        "data[\"V/AP-mili\"]=data[\"V/AP\"]*13.33"
      ],
      "execution_count": null,
      "outputs": []
    },
    {
      "cell_type": "code",
      "metadata": {
        "id": "pX6PRBT25H-M",
        "colab_type": "code",
        "colab": {}
      },
      "source": [
        "data[\"different\"]=(-data[\"AP\"])+data[\"V-unit\"]"
      ],
      "execution_count": null,
      "outputs": []
    },
    {
      "cell_type": "code",
      "metadata": {
        "id": "koGd0TBv6uam",
        "colab_type": "code",
        "colab": {}
      },
      "source": [
        "data[\"AP/V2=mili\"]=data[\"AP/V\"]/(13.33*13.33)"
      ],
      "execution_count": null,
      "outputs": []
    },
    {
      "cell_type": "code",
      "metadata": {
        "id": "iFq-uyrdTt6d",
        "colab_type": "code",
        "colab": {}
      },
      "source": [
        "data[\"AP/V2=mili%\"]=data[\"AP/V2=mili\"]*100"
      ],
      "execution_count": null,
      "outputs": []
    },
    {
      "cell_type": "code",
      "metadata": {
        "id": "0dH0YkUXYNFj",
        "colab_type": "code",
        "colab": {}
      },
      "source": [
        "data[\"AP/Vyy\"]=data[\"AP/V\"]*data[\"yy\"]"
      ],
      "execution_count": null,
      "outputs": []
    },
    {
      "cell_type": "code",
      "metadata": {
        "id": "ZmBYUYsUcAKN",
        "colab_type": "code",
        "colab": {}
      },
      "source": [
        "data[\"dddd\"]=data[\"AP/V\"]*13.33"
      ],
      "execution_count": null,
      "outputs": []
    },
    {
      "cell_type": "markdown",
      "metadata": {
        "id": "b9LNCACMzkOo",
        "colab_type": "text"
      },
      "source": [
        "# TRAIN"
      ]
    },
    {
      "cell_type": "code",
      "metadata": {
        "id": "H_aE1wny77_6",
        "colab_type": "code",
        "colab": {}
      },
      "source": [
        "trainxx=data[:9568]\n",
        "testxx=data[9568:]"
      ],
      "execution_count": null,
      "outputs": []
    },
    {
      "cell_type": "code",
      "metadata": {
        "id": "ZgpbNREqYiGx",
        "colab_type": "code",
        "colab": {
          "base_uri": "https://localhost:8080/",
          "height": 143
        },
        "outputId": "43882d27-ed0d-497a-9ddf-a01cfebeaabb"
      },
      "source": [
        "trainxx[0:2]"
      ],
      "execution_count": null,
      "outputs": [
        {
          "output_type": "execute_result",
          "data": {
            "text/html": [
              "<div>\n",
              "<style scoped>\n",
              "    .dataframe tbody tr th:only-of-type {\n",
              "        vertical-align: middle;\n",
              "    }\n",
              "\n",
              "    .dataframe tbody tr th {\n",
              "        vertical-align: top;\n",
              "    }\n",
              "\n",
              "    .dataframe thead th {\n",
              "        text-align: right;\n",
              "    }\n",
              "</style>\n",
              "<table border=\"1\" class=\"dataframe\">\n",
              "  <thead>\n",
              "    <tr style=\"text-align: right;\">\n",
              "      <th></th>\n",
              "      <th>AT</th>\n",
              "      <th>V</th>\n",
              "      <th>AP</th>\n",
              "      <th>RH</th>\n",
              "      <th>AP/V</th>\n",
              "      <th>AP/V*RH</th>\n",
              "      <th>AP/V%</th>\n",
              "      <th>AP/V2</th>\n",
              "      <th>AP/V3</th>\n",
              "      <th>AP/V4</th>\n",
              "      <th>V/AP</th>\n",
              "      <th>AT*RH</th>\n",
              "      <th>AP-V/V</th>\n",
              "      <th>AP-V/V%</th>\n",
              "      <th>P</th>\n",
              "      <th>P/v</th>\n",
              "      <th>P/AP</th>\n",
              "      <th>P/V2</th>\n",
              "      <th>P_diff</th>\n",
              "      <th>sss</th>\n",
              "      <th>yy</th>\n",
              "      <th>AP*V</th>\n",
              "      <th>fff</th>\n",
              "      <th>V-unit</th>\n",
              "      <th>AP/V-mili</th>\n",
              "      <th>V/AP-mili</th>\n",
              "      <th>different</th>\n",
              "      <th>AP/V2=mili</th>\n",
              "      <th>dddd</th>\n",
              "    </tr>\n",
              "  </thead>\n",
              "  <tbody>\n",
              "    <tr>\n",
              "      <th>0</th>\n",
              "      <td>29.07</td>\n",
              "      <td>4.297421</td>\n",
              "      <td>6.917943</td>\n",
              "      <td>3408.2244</td>\n",
              "      <td>1.609789</td>\n",
              "      <td>5486.523278</td>\n",
              "      <td>160.978933</td>\n",
              "      <td>2.591422</td>\n",
              "      <td>4.171643</td>\n",
              "      <td>6.715466</td>\n",
              "      <td>0.621199</td>\n",
              "      <td>99077.083308</td>\n",
              "      <td>0.609789</td>\n",
              "      <td>60.978933</td>\n",
              "      <td>11.215365</td>\n",
              "      <td>2.609789</td>\n",
              "      <td>1.621199</td>\n",
              "      <td>6.811000</td>\n",
              "      <td>2.620522</td>\n",
              "      <td>4.279821</td>\n",
              "      <td>0.233655</td>\n",
              "      <td>29.729318</td>\n",
              "      <td>18.467831</td>\n",
              "      <td>57.284628</td>\n",
              "      <td>0.120764</td>\n",
              "      <td>8.280587</td>\n",
              "      <td>50.366685</td>\n",
              "      <td>0.009060</td>\n",
              "      <td>21.458492</td>\n",
              "    </tr>\n",
              "    <tr>\n",
              "      <th>1</th>\n",
              "      <td>32.38</td>\n",
              "      <td>4.222005</td>\n",
              "      <td>6.915694</td>\n",
              "      <td>3604.8016</td>\n",
              "      <td>1.638012</td>\n",
              "      <td>5904.707861</td>\n",
              "      <td>163.801188</td>\n",
              "      <td>2.683083</td>\n",
              "      <td>4.394922</td>\n",
              "      <td>7.198934</td>\n",
              "      <td>0.610496</td>\n",
              "      <td>116723.475808</td>\n",
              "      <td>0.638012</td>\n",
              "      <td>63.801188</td>\n",
              "      <td>11.137698</td>\n",
              "      <td>2.638012</td>\n",
              "      <td>1.610496</td>\n",
              "      <td>6.959107</td>\n",
              "      <td>2.693689</td>\n",
              "      <td>4.134738</td>\n",
              "      <td>0.241853</td>\n",
              "      <td>29.198090</td>\n",
              "      <td>17.825323</td>\n",
              "      <td>56.279321</td>\n",
              "      <td>0.122882</td>\n",
              "      <td>8.137914</td>\n",
              "      <td>49.363627</td>\n",
              "      <td>0.009218</td>\n",
              "      <td>21.834698</td>\n",
              "    </tr>\n",
              "  </tbody>\n",
              "</table>\n",
              "</div>"
            ],
            "text/plain": [
              "      AT         V        AP  ...  different  AP/V2=mili       dddd\n",
              "0  29.07  4.297421  6.917943  ...  50.366685    0.009060  21.458492\n",
              "1  32.38  4.222005  6.915694  ...  49.363627    0.009218  21.834698\n",
              "\n",
              "[2 rows x 29 columns]"
            ]
          },
          "metadata": {
            "tags": []
          },
          "execution_count": 223
        }
      ]
    },
    {
      "cell_type": "code",
      "metadata": {
        "id": "BHbDbQlcywmK",
        "colab_type": "code",
        "colab": {}
      },
      "source": [
        "from sklearn.preprocessing import StandardScaler\n",
        "scaler_x=StandardScaler()\n",
        "scaler_y=StandardScaler()\n",
        "trainx=scaler_x.fit_transform(trainxx)\n",
        "testx=scaler_x.transform(testxx)\n",
        "tar=scaler_y.fit_transform((np.array(y)).reshape(-1,1))"
      ],
      "execution_count": null,
      "outputs": []
    },
    {
      "cell_type": "code",
      "metadata": {
        "id": "5J1PxWYa17gJ",
        "colab_type": "code",
        "colab": {}
      },
      "source": [
        "from sklearn.model_selection import cross_val_score"
      ],
      "execution_count": null,
      "outputs": []
    },
    {
      "cell_type": "markdown",
      "metadata": {
        "id": "-NNz4m8f7KOM",
        "colab_type": "text"
      },
      "source": [
        "# BASELINE/FINE-TUNE"
      ]
    },
    {
      "cell_type": "code",
      "metadata": {
        "id": "5LgXkz_pmiJn",
        "colab_type": "code",
        "colab": {}
      },
      "source": [
        "#-2.528592197626728 without fine tune"
      ],
      "execution_count": null,
      "outputs": []
    },
    {
      "cell_type": "code",
      "metadata": {
        "id": "o4IknnGU5pSF",
        "colab_type": "code",
        "colab": {
          "base_uri": "https://localhost:8080/",
          "height": 34
        },
        "outputId": "1bc12513-4f78-4f1a-a9d0-6d99d9b3c604"
      },
      "source": [
        "from sklearn.ensemble import ExtraTreesRegressor\n",
        "etc=ExtraTreesRegressor()\n",
        "scores = cross_val_score(etc, trainxx,y, cv = 5, scoring = \"neg_root_mean_squared_error\")\n",
        "scores.mean()"
      ],
      "execution_count": null,
      "outputs": [
        {
          "output_type": "execute_result",
          "data": {
            "text/plain": [
              "-2.5291322080797025"
            ]
          },
          "metadata": {
            "tags": []
          },
          "execution_count": 225
        }
      ]
    },
    {
      "cell_type": "code",
      "metadata": {
        "id": "BShDjP9E6rwi",
        "colab_type": "code",
        "colab": {}
      },
      "source": [
        "from sklearn.ensemble import ExtraTreesRegressor\n",
        "etc=ExtraTreesRegressor(n_estimators=800)\n",
        "etc.fit(trainxx,y)\n",
        "pred=etc.predict(testxx)\n",
        "sub[\"PE\"]=(pred)\n",
        "sub.to_csv(\"sub20.csv\",index=False)"
      ],
      "execution_count": null,
      "outputs": []
    },
    {
      "cell_type": "code",
      "metadata": {
        "id": "xVWN9aPtxpzi",
        "colab_type": "code",
        "colab": {
          "base_uri": "https://localhost:8080/",
          "height": 126
        },
        "outputId": "531a6031-61a2-4fa7-8d97-1bc740e6f8ab"
      },
      "source": [
        "pd.DataFrame([trainxx.columns,etc.feature_importances_])"
      ],
      "execution_count": null,
      "outputs": [
        {
          "output_type": "execute_result",
          "data": {
            "text/html": [
              "<div>\n",
              "<style scoped>\n",
              "    .dataframe tbody tr th:only-of-type {\n",
              "        vertical-align: middle;\n",
              "    }\n",
              "\n",
              "    .dataframe tbody tr th {\n",
              "        vertical-align: top;\n",
              "    }\n",
              "\n",
              "    .dataframe thead th {\n",
              "        text-align: right;\n",
              "    }\n",
              "</style>\n",
              "<table border=\"1\" class=\"dataframe\">\n",
              "  <thead>\n",
              "    <tr style=\"text-align: right;\">\n",
              "      <th></th>\n",
              "      <th>0</th>\n",
              "      <th>1</th>\n",
              "      <th>2</th>\n",
              "      <th>3</th>\n",
              "      <th>4</th>\n",
              "      <th>5</th>\n",
              "      <th>6</th>\n",
              "      <th>7</th>\n",
              "      <th>8</th>\n",
              "      <th>9</th>\n",
              "      <th>10</th>\n",
              "      <th>11</th>\n",
              "      <th>12</th>\n",
              "      <th>13</th>\n",
              "      <th>14</th>\n",
              "      <th>15</th>\n",
              "      <th>16</th>\n",
              "      <th>17</th>\n",
              "      <th>18</th>\n",
              "      <th>19</th>\n",
              "      <th>20</th>\n",
              "      <th>21</th>\n",
              "      <th>22</th>\n",
              "      <th>23</th>\n",
              "      <th>24</th>\n",
              "      <th>25</th>\n",
              "      <th>26</th>\n",
              "    </tr>\n",
              "  </thead>\n",
              "  <tbody>\n",
              "    <tr>\n",
              "      <th>0</th>\n",
              "      <td>AT</td>\n",
              "      <td>V</td>\n",
              "      <td>AP</td>\n",
              "      <td>RH</td>\n",
              "      <td>AP/V</td>\n",
              "      <td>AP/V*RH</td>\n",
              "      <td>AP/V%</td>\n",
              "      <td>AP/V2</td>\n",
              "      <td>AP/V3</td>\n",
              "      <td>AP/V4</td>\n",
              "      <td>V/AP</td>\n",
              "      <td>AT*RH</td>\n",
              "      <td>AP-V/V</td>\n",
              "      <td>AP-V/V%</td>\n",
              "      <td>P</td>\n",
              "      <td>P/v</td>\n",
              "      <td>P/AP</td>\n",
              "      <td>P/V2</td>\n",
              "      <td>P_diff</td>\n",
              "      <td>sss</td>\n",
              "      <td>yy</td>\n",
              "      <td>AP*V</td>\n",
              "      <td>fff</td>\n",
              "      <td>V-unit</td>\n",
              "      <td>AP/V-mili</td>\n",
              "      <td>V/AP-mili</td>\n",
              "      <td>different</td>\n",
              "    </tr>\n",
              "    <tr>\n",
              "      <th>1</th>\n",
              "      <td>0.280067</td>\n",
              "      <td>0.0334879</td>\n",
              "      <td>0.0117814</td>\n",
              "      <td>0.00598253</td>\n",
              "      <td>0.0334392</td>\n",
              "      <td>0.00581725</td>\n",
              "      <td>0.0314145</td>\n",
              "      <td>0.020829</td>\n",
              "      <td>0.0287245</td>\n",
              "      <td>0.0301587</td>\n",
              "      <td>0.026267</td>\n",
              "      <td>0.0161391</td>\n",
              "      <td>0.0357643</td>\n",
              "      <td>0.0222412</td>\n",
              "      <td>0.0173258</td>\n",
              "      <td>0.035266</td>\n",
              "      <td>0.0348634</td>\n",
              "      <td>0.0298865</td>\n",
              "      <td>0.0399763</td>\n",
              "      <td>0.0325841</td>\n",
              "      <td>0.0345669</td>\n",
              "      <td>0.0260679</td>\n",
              "      <td>0.0399641</td>\n",
              "      <td>0.0368305</td>\n",
              "      <td>0.0349225</td>\n",
              "      <td>0.0307946</td>\n",
              "      <td>0.0248373</td>\n",
              "    </tr>\n",
              "  </tbody>\n",
              "</table>\n",
              "</div>"
            ],
            "text/plain": [
              "         0          1          2   ...         24         25         26\n",
              "0        AT          V         AP  ...  AP/V-mili  V/AP-mili  different\n",
              "1  0.280067  0.0334879  0.0117814  ...  0.0349225  0.0307946  0.0248373\n",
              "\n",
              "[2 rows x 27 columns]"
            ]
          },
          "metadata": {
            "tags": []
          },
          "execution_count": 154
        }
      ]
    },
    {
      "cell_type": "code",
      "metadata": {
        "id": "tvKVYyFyGYqv",
        "colab_type": "code",
        "colab": {}
      },
      "source": [
        ""
      ],
      "execution_count": null,
      "outputs": []
    }
  ]
}